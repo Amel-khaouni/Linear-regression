{
  "cells": [
    {
      "cell_type": "markdown",
      "metadata": {
        "id": "fkBLUzsdgUI6"
      },
      "source": [
        "# TP 3 Regression linéaire\n",
        "Dans ce TP, nous aimerions prédire l'admission d'un étudiant à une specialité donnée selon ses notes dans deux matières.\n",
        "\n",
        "Pour ce faire, nous étudierons un ensemble de données avec l'admission  (y) et les notes des deux modules (X).\n",
        "\n",
        "La prédiction se fera avec l'agorithme de descente du gradient."
      ]
    },
    {
      "cell_type": "markdown",
      "metadata": {
        "id": "TTCaml2GgUI_"
      },
      "source": [
        "# Importation des librairies necessaires au travail"
      ]
    },
    {
      "cell_type": "code",
      "execution_count": 178,
      "metadata": {
        "id": "SABCw_FWgUJA"
      },
      "outputs": [],
      "source": [
        "import numpy as np\n",
        "import matplotlib.pyplot as plt\n",
        "import time\n",
        "from sklearn.linear_model import LogisticRegression\n",
        "from sklearn.metrics import log_loss\n"
      ]
    },
    {
      "cell_type": "markdown",
      "metadata": {
        "id": "cnk7T27UgUJC"
      },
      "source": [
        "# Lecture des fichiers de données\n",
        "Pour ce TP, nous allons lire les données à partir d'un fichier csv."
      ]
    },
    {
      "cell_type": "code",
      "execution_count": 181,
      "metadata": {
        "colab": {
          "base_uri": "https://localhost:8080/"
        },
        "id": "BHEIV9rggUJD",
        "outputId": "dc74db95-ebc3-4de3-89e1-ae357bf806a7"
      },
      "outputs": [
        {
          "data": {
            "text/plain": [
              "(100, 3)"
            ]
          },
          "execution_count": 181,
          "metadata": {},
          "output_type": "execute_result"
        }
      ],
      "source": [
        "# données\n",
        "data = np.genfromtxt('data.csv', delimiter=',', dtype=int)\n",
        "data.shape"
      ]
    },
    {
      "cell_type": "markdown",
      "metadata": {
        "id": "taJ0szMygUJF"
      },
      "source": [
        "Dans ces données (data), la première colonne represente la première note, la deuxieme colonne la deuxième note et la troisième colonne represente l'admission à la specialité (1 admis 0 non admis).\n",
        "\n",
        "Chaque ligne represente un exemple de notre ensemble de données. \n",
        "\n",
        "Mettons ces données dans leus vecteurs correspondants."
      ]
    },
    {
      "cell_type": "code",
      "execution_count": 360,
      "metadata": {
        "id": "vs_qucYlgUJF"
      },
      "outputs": [],
      "source": [
        "# rajoutons l'ordonnée à l'origine theta 0\n",
        "intercept=np.ones((data.shape[0],1))\n",
        "X=np.column_stack((intercept,data[:,0:2]))\n",
        "y = data[:, 2];\n",
        "y = y.reshape(-1,1)"
      ]
    },
    {
      "cell_type": "code",
      "execution_count": 271,
      "metadata": {
        "colab": {
          "base_uri": "https://localhost:8080/"
        },
        "id": "B8FoLuwmgUJG",
        "outputId": "88e505db-f292-4fd0-bd57-ce33eff69eab"
      },
      "outputs": [
        {
          "name": "stdout",
          "output_type": "stream",
          "text": [
            "X (100, 3)  y  (100, 1)\n"
          ]
        }
      ],
      "source": [
        "print('X', X.shape ,' y ', y.shape)"
      ]
    },
    {
      "cell_type": "markdown",
      "metadata": {
        "id": "9qPQwoqqgUJH"
      },
      "source": [
        "# Descente du Gradient : Préparation des fonctions"
      ]
    },
    {
      "cell_type": "markdown",
      "metadata": {
        "id": "WQ1HvaE0gUJH"
      },
      "source": [
        "0- Fonction mpgistique (Sigmoid)"
      ]
    },
    {
      "cell_type": "code",
      "execution_count": 236,
      "metadata": {
        "id": "qHx2KuaPgUJH"
      },
      "outputs": [],
      "source": [
        "# pour une valeur donnée, cette fonction calculera sa sigmoid\n",
        "\n",
        "\n",
        "def sigmoid(z):\n",
        "    \"\"\"Fonction sigmoïde\"\"\"\n",
        "    return 1 / (1 + np.exp(-z))\n",
        "\n",
        "\n",
        "    \n",
        " "
      ]
    },
    {
      "cell_type": "markdown",
      "metadata": {
        "id": "ohlVInazgUJI"
      },
      "source": [
        "1- Calcul du coût\n",
        "\n",
        "Cette fonction servira à calculer le cout $J(\\theta_0,\\theta_1)$\n",
        "\n",
        "Elle prendra l'ensemble de données d'apprentissage en entrée ainsi que les paramètres définis initialement"
      ]
    },
    {
      "cell_type": "code",
      "execution_count": 287,
      "metadata": {
        "id": "THUTP2QKgUJI"
      },
      "outputs": [],
      "source": [
        "# idéalement, tracer le coût à chaque itération pour s'assurer que la descente du gradient est correcte\n",
        "    \n",
        "    # calculer le coût avec et sans vectorisation, \n",
        "    # comparer le temps de traitement\n",
        "def computeCost(theta, X, y):\n",
        "    \"\"\"Fonction de coût logistique\"\"\"\n",
        "    e = 1e-14\n",
        "    y_pred = np.clip(sigmoid(np.dot(X, theta)), e, 1 - e)\n",
        "\n",
        "    return -(y * np.log(y_pred) + (1 - y) * np.log(1 - y_pred)).mean(axis=0)\n",
        "  "
      ]
    },
    {
      "cell_type": "code",
      "execution_count": null,
      "metadata": {
        "id": "Yc9O1fMatEL4"
      },
      "outputs": [],
      "source": []
    },
    {
      "cell_type": "markdown",
      "metadata": {
        "id": "Erl3wzLbgUJI"
      },
      "source": [
        "2- Fonction de la descente du gradient\n",
        "\n",
        "Cette fonction mettra à jour les paramètres $\\theta_0,\\theta_1$ jusqu'à convergence: atteinte du nombre d'itérations max, ou dérivée assez petite."
      ]
    },
    {
      "cell_type": "code",
      "execution_count": 312,
      "metadata": {
        "id": "ZI5UH_xDgUJJ"
      },
      "outputs": [],
      "source": [
        "\n",
        "def gradient_descent(X, y, theta, alpha, num_iters):\n",
        "    costs = []\n",
        "    for _ in range(num_iters):\n",
        "        y_hat = sigmoid(np.dot(X, theta))\n",
        "        \n",
        "        error = sigmoid(y_hat)- y\n",
        "        \n",
        "        cost = computeCost(theta, X, y)\n",
        "        costs.append(cost)\n",
        "        \n",
        "        gradient = np.dot(X.T, error) / 100\n",
        "        theta = theta - alpha * gradient\n",
        "    return theta, np.asarray(costs)"
      ]
    },
    {
      "cell_type": "markdown",
      "metadata": {
        "id": "diDJTYBOgUJJ"
      },
      "source": [
        "# Descente du Gradient : Appel des fonctions"
      ]
    },
    {
      "cell_type": "markdown",
      "metadata": {
        "id": "jbfa0sEYgUJJ"
      },
      "source": [
        "Initialisation de $\\theta_0$ et $\\theta_1$"
      ]
    },
    {
      "cell_type": "code",
      "execution_count": 354,
      "metadata": {
        "id": "nSbWUHpKgUJJ"
      },
      "outputs": [
        {
          "data": {
            "text/plain": [
              "(3, 1)"
            ]
          },
          "execution_count": 354,
          "metadata": {},
          "output_type": "execute_result"
        }
      ],
      "source": [
        "n=X.shape[1]\n",
        "theta = np.zeros((n, 1))\n",
        "theta.shape"
      ]
    },
    {
      "cell_type": "markdown",
      "metadata": {
        "id": "yiZ9qIn2gUJK"
      },
      "source": [
        "Calculer le cout initial"
      ]
    },
    {
      "cell_type": "code",
      "execution_count": 355,
      "metadata": {
        "colab": {
          "base_uri": "https://localhost:8080/"
        },
        "id": "XRuK_o_9gUJK",
        "outputId": "ed80f39a-5bab-48fe-d077-f26cc7032e97"
      },
      "outputs": [
        {
          "name": "stdout",
          "output_type": "stream",
          "text": [
            "[0.69314718]\n"
          ]
        }
      ],
      "source": [
        "initialCost=computeCost(theta, X, y)\n",
        "print(initialCost)"
      ]
    },
    {
      "cell_type": "markdown",
      "metadata": {
        "id": "XMfu7Y9_gUJK"
      },
      "source": [
        "Appel des la fonction de calcul du gradient"
      ]
    },
    {
      "cell_type": "code",
      "execution_count": 356,
      "metadata": {
        "id": "0wQk0-jkgUJL"
      },
      "outputs": [
        {
          "name": "stdout",
          "output_type": "stream",
          "text": [
            "[[-3.65422825]\n",
            " [ 0.33292157]\n",
            " [ 0.05421358]]\n"
          ]
        }
      ],
      "source": [
        "# paramètres\n",
        "num_iters = 5000;\n",
        "alpha = 0.01;\n",
        "# Appel\n",
        "theta, costs= gradient_descent(X, y, theta, alpha,num_iters);\n",
        "print(theta)\n",
        "\n"
      ]
    },
    {
      "cell_type": "markdown",
      "metadata": {
        "id": "4TDAjsnsgUJL"
      },
      "source": [
        "Traçage de la fonction du coût"
      ]
    },
    {
      "cell_type": "markdown",
      "metadata": {
        "id": "oJp_fjA2gUJL"
      },
      "source": [
        "Notons que $\\theta^T  x$ est équivalent à $X  \\theta $ où $X= \\begin{pmatrix}\n",
        "..(x^{(1)})^T..\\\\\n",
        "..(x^{(2)})^T..\\\\\n",
        ".\\\\\n",
        ".\\\\\n",
        ".\\\\\n",
        "..(x^{(m)})^T..\n",
        "\\end{pmatrix} $"
      ]
    },
    {
      "cell_type": "markdown",
      "metadata": {
        "id": "PhcK9ntZgUJL"
      },
      "source": [
        "# Dessin de la limite de decision (Descision Boundary)\n",
        "Dans cette partie, nous aimerions dessiner la ligne separatrice d nos données"
      ]
    },
    {
      "cell_type": "code",
      "execution_count": 340,
      "metadata": {
        "id": "lm6-_Md9gUJM"
      },
      "outputs": [],
      "source": [
        "def drawLine(X, y, theta):\n",
        "    plt.scatter(X[np.where(y==1),1],X[np.where(y==1),2], label=\"accepte\",marker ='o')\n",
        "    plt.scatter(X[np.where(y==0),1],X[np.where(y==0),2], label=\"non accepte\",marker ='x')\n",
        "    x1_min, x1_max = X[:, 1].min(), X[:, 1].max()\n",
        "    x2_min, x2_max = (-(theta[1] * x1_min + theta[0]) / theta[2])[0], (-(theta[1] * x1_max + theta[0]) / theta[2])[0]\n",
        "\n",
        "    plt.xlabel(\"x1\")\n",
        "    plt.ylabel(\"x2\")\n",
        "    plt.title(\"decision boundary\")\n",
        "    plt.plot([x1_min, x1_max], [x2_min, x2_max])\n",
        "    "
      ]
    },
    {
      "cell_type": "code",
      "execution_count": 341,
      "metadata": {},
      "outputs": [
        {
          "data": {
            "image/png": "[encoded data removed]",
            "text/plain": [
              "<Figure size 432x288 with 1 Axes>"
            ]
          },
          "metadata": {
            "needs_background": "light"
          },
          "output_type": "display_data"
        }
      ],
      "source": [
        "\n",
        "drawLine(X, y, theta)"
      ]
    },
    {
      "cell_type": "markdown",
      "metadata": {
        "id": "6h19ZvbVgUJM"
      },
      "source": [
        "# Affichage \n",
        "Graphe representant les acceptations selon les caracteristiques"
      ]
    },
    {
      "cell_type": "code",
      "execution_count": 25,
      "metadata": {
        "id": "TQyYKIWdgUJM",
        "outputId": "5285fd40-dac2-4457-dad5-2b440faf000b"
      },
      "outputs": [
        {
          "data": {
            "text/plain": [
              "Text(0, 0.5, 'Note module 2')"
            ]
          },
          "execution_count": 25,
          "metadata": {},
          "output_type": "execute_result"
        },
        {
          "data": {
            "image/png": "[encoded data removed]",
            "text/plain": [
              "<Figure size 432x288 with 1 Axes>"
            ]
          },
          "metadata": {
            "needs_background": "light"
          },
          "output_type": "display_data"
        }
      ],
      "source": [
        "plt.scatter(X[np.where(y==1),1],X[np.where(y==1),2], label=\"accepte\",marker ='o')\n",
        "plt.scatter(X[np.where(y==0),1],X[np.where(y==0),2], label=\"non accepte\",marker ='x')\n",
        "\n",
        "plt.xlabel('Note module 1')\n",
        "plt.ylabel('Note module 2')"
      ]
    },
    {
      "cell_type": "markdown",
      "metadata": {
        "id": "Pg6hNdREgUJM"
      },
      "source": [
        "Traçage du coût en fonction de theta0 et theta1"
      ]
    },
    {
      "cell_type": "code",
      "execution_count": 346,
      "metadata": {
        "id": "HWwMxT2zgUJM"
      },
      "outputs": [
        {
          "data": {
            "text/plain": [
              "<mpl_toolkits.mplot3d.art3d.Poly3DCollection at 0x2aa28e98730>"
            ]
          },
          "execution_count": 346,
          "metadata": {},
          "output_type": "execute_result"
        },
        {
          "data": {
            "image/png": "[encoded data removed]",
            "text/plain": [
              "<Figure size 432x288 with 1 Axes>"
            ]
          },
          "metadata": {
            "needs_background": "light"
          },
          "output_type": "display_data"
        }
      ],
      "source": [
        "theta_0_range, theta_1_range = np.meshgrid(np.arange(theta[0] - 1, theta[0] + 1, 0.1), \n",
        "                                           np.arange(theta[1] - 1, theta[1] + 1, 0.1))\n",
        "theta_mesh = np.expand_dims(np.stack((theta_0_range, theta_1_range), axis=-1), axis=3)\n",
        "loss = np.asarray(\n",
        "    [\n",
        "        [computeCost(np.concatenate((theta_mesh[i, j], np.expand_dims(theta[2], axis=1)), axis=0),X, y)[0]\n",
        "             for j in range(theta_mesh.shape[1])\n",
        "        ] \n",
        "        for i in range(theta_mesh.shape[0])\n",
        "    ]\n",
        ")\n",
        "\n",
        "fig = plt.figure()\n",
        "ax = fig.add_subplot(111, projection='3d')\n",
        "ax.plot_surface(theta_0_range, theta_1_range, loss)"
      ]
    },
    {
      "cell_type": "markdown",
      "metadata": {
        "id": "E07Q0220gUJN"
      },
      "source": [
        "Prédire des valeurs de y"
      ]
    },
    {
      "cell_type": "code",
      "execution_count": 357,
      "metadata": {
        "id": "UZiN3_UNgUJN"
      },
      "outputs": [
        {
          "data": {
            "text/plain": [
              "array([[-25.31590106]])"
            ]
          },
          "execution_count": 357,
          "metadata": {},
          "output_type": "execute_result"
        }
      ],
      "source": [
        "# Predire pour des notes note1= 9 et note2=17\n",
        "x = np.array([[8,9, 17]])\n",
        "np.dot(x,theta)"
      ]
    },
    {
      "cell_type": "markdown",
      "metadata": {
        "id": "SI_I8CbzgUJN"
      },
      "source": [
        "# Vérification de l'implementation\n",
        "Comparer vos algorithmes à ceux de scikitlearn"
      ]
    },
    {
      "cell_type": "code",
      "execution_count": 365,
      "metadata": {
        "id": "fwSBWLMsgUJN"
      },
      "outputs": [
        {
          "name": "stdout",
          "output_type": "stream",
          "text": [
            "[[-5.46675316e-08  9.45433340e-01  9.10032400e-01]]\n"
          ]
        }
      ],
      "source": [
        "\n",
        "lr_model = LogisticRegression()\n",
        "lr_model.fit(X, np.squeeze(y, axis=1))\n",
        "#le theta de sklearn\n",
        "theta_sk = lr_model.coef_\n",
        "print(theta_sk)\n"
      ]
    },
    {
      "cell_type": "markdown",
      "metadata": {
        "id": "7sgLTyk-gUJN"
      },
      "source": [
        "# Renforcement d'apprentissage\n",
        "Mettre ici toute idée qui pourrait renforcer votre apprentissage"
      ]
    },
    {
      "cell_type": "code",
      "execution_count": null,
      "metadata": {
        "id": "H_OlAMmVgUJO"
      },
      "outputs": [],
      "source": []
    },
    {
      "cell_type": "markdown",
      "metadata": {
        "id": "l2G_9lsFgUJO"
      },
      "source": [
        "# Consignes"
      ]
    },
    {
      "cell_type": "code",
      "execution_count": null,
      "metadata": {
        "id": "Z3aoEel3gUJO"
      },
      "outputs": [],
      "source": []
    }
  ],
  "metadata": {
    "colab": {
      "provenance": []
    },
    "kernelspec": {
      "display_name": "Python 3 (ipykernel)",
      "language": "python",
      "name": "python3"
    },
    "language_info": {
      "codemirror_mode": {
        "name": "ipython",
        "version": 3
      },
      "file_extension": ".py",
      "mimetype": "text/x-python",
      "name": "python",
      "nbconvert_exporter": "python",
      "pygments_lexer": "ipython3",
      "version": "3.9.12"
    }
  },
  "nbformat": 4,
  "nbformat_minor": 0
}
